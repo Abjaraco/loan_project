{
 "cells": [
  {
   "cell_type": "code",
   "execution_count": null,
   "metadata": {},
   "outputs": [],
   "source": [
    "# This notebook will be for Classification testing (Supervised Learning)\n",
    "# Decision Tree, SGD Classifier/SVM - Logistic Regression\n",
    "# Importing Libraries\n",
    "\n"
   ]
  }
 ],
 "metadata": {
  "language_info": {
   "name": "python"
  }
 },
 "nbformat": 4,
 "nbformat_minor": 2
}
