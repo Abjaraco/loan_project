{
 "cells": [
  {
   "cell_type": "code",
   "execution_count": null,
   "metadata": {},
   "outputs": [],
   "source": [
    "# This notebook will be for clustering modeling (Unsupervised Learning)\n",
    "# Mini Kmeans, maybe DBSCAN(Density-Based Spatial Clustering of Applications with Noise)(GOWER) to detect noise\n",
    "# Importing the libraries\n",
    "\n",
    "import os\n",
    "import numpy as np\n",
    "import pandas as pd\n",
    "import matplotlib.pyplot as plt\n",
    "import seaborn as sns\n",
    "import sklearn\n",
    "from sklearn.cluster import DBSCAN\n",
    "from sklearn.preprocessing import RobustScaler\n",
    "from sklearn.preprocessing import OneHotEncoder, LabelEncoder\n",
    "from sklearn.compose import ColumnTransformer\n",
    "from sklearn.impute import SimpleImputer\n",
    "from statsmodels.stats.outliers_influence import variance_inflation_factor\n",
    "from statsmodels.tools import add_constant\n",
    "from sklearn.decomposition import PCA"
   ]
  },
  {
   "cell_type": "code",
   "execution_count": 8,
   "metadata": {},
   "outputs": [],
   "source": [
    "# importing data\n",
    "\n",
    "from dotenv import load_dotenv\n",
    "\n",
    "load_dotenv()\n",
    "\n",
    "dataset_path = os.getenv('CLEANED_DATA_PATH')\n",
    "\n",
    "df_cleaned = pd.read_csv(dataset_path)"
   ]
  },
  {
   "cell_type": "code",
   "execution_count": 4,
   "metadata": {},
   "outputs": [
    {
     "name": "stdout",
     "output_type": "stream",
     "text": [
      "<class 'pandas.core.frame.DataFrame'>\n",
      "RangeIndex: 307507 entries, 0 to 307506\n",
      "Data columns (total 42 columns):\n",
      " #   Column                       Non-Null Count   Dtype  \n",
      "---  ------                       --------------   -----  \n",
      " 0   SK_ID_CURR                   307507 non-null  int64  \n",
      " 1   TARGET                       307507 non-null  int64  \n",
      " 2   NAME_CONTRACT_TYPE           307507 non-null  object \n",
      " 3   CODE_GENDER                  307507 non-null  object \n",
      " 4   FLAG_OWN_CAR                 307507 non-null  object \n",
      " 5   FLAG_OWN_REALTY              307507 non-null  object \n",
      " 6   CNT_CHILDREN                 307507 non-null  int64  \n",
      " 7   AMT_GOODS_PRICE              307229 non-null  float64\n",
      " 8   NAME_TYPE_SUITE              306215 non-null  object \n",
      " 9   NAME_INCOME_TYPE             307507 non-null  object \n",
      " 10  NAME_EDUCATION_TYPE          307507 non-null  object \n",
      " 11  NAME_FAMILY_STATUS           307507 non-null  object \n",
      " 12  NAME_HOUSING_TYPE            307507 non-null  object \n",
      " 13  REGION_POPULATION_RELATIVE   307507 non-null  float64\n",
      " 14  DAYS_REGISTRATION            307507 non-null  float64\n",
      " 15  DAYS_ID_PUBLISH              307507 non-null  int64  \n",
      " 16  FLAG_EMP_PHONE               307507 non-null  int64  \n",
      " 17  FLAG_WORK_PHONE              307507 non-null  int64  \n",
      " 18  OCCUPATION_TYPE              307507 non-null  object \n",
      " 19  CNT_FAM_MEMBERS              307505 non-null  float64\n",
      " 20  REGION_RATING_CLIENT_W_CITY  307507 non-null  int64  \n",
      " 21  WEEKDAY_APPR_PROCESS_START   307507 non-null  object \n",
      " 22  HOUR_APPR_PROCESS_START      307507 non-null  int64  \n",
      " 23  REG_REGION_NOT_LIVE_REGION   307507 non-null  int64  \n",
      " 24  REG_REGION_NOT_WORK_REGION   307507 non-null  int64  \n",
      " 25  LIVE_REGION_NOT_WORK_REGION  307507 non-null  int64  \n",
      " 26  REG_CITY_NOT_LIVE_CITY       307507 non-null  int64  \n",
      " 27  REG_CITY_NOT_WORK_CITY       307507 non-null  int64  \n",
      " 28  LIVE_CITY_NOT_WORK_CITY      307507 non-null  int64  \n",
      " 29  ORGANIZATION_TYPE            307507 non-null  object \n",
      " 30  EXT_SOURCE_2                 306847 non-null  float64\n",
      " 31  EXT_SOURCE_3                 246542 non-null  float64\n",
      " 32  DEF_30_CNT_SOCIAL_CIRCLE     306486 non-null  float64\n",
      " 33  OBS_60_CNT_SOCIAL_CIRCLE     306486 non-null  float64\n",
      " 34  DEF_60_CNT_SOCIAL_CIRCLE     306486 non-null  float64\n",
      " 35  DAYS_LAST_PHONE_CHANGE       307506 non-null  float64\n",
      " 36  FLAG_DOCUMENT_3              307507 non-null  int64  \n",
      " 37  AMT_REQ_CREDIT_BUREAU_HOUR   265988 non-null  float64\n",
      " 38  AMT_CREDIT_RANGE             307507 non-null  object \n",
      " 39  CREDT_INCOME_RATIO           307507 non-null  float64\n",
      " 40  EMP_AGE_RATIO                307507 non-null  float64\n",
      " 41  ANNUITY_INCOME_RATIO         307495 non-null  float64\n",
      "dtypes: float64(14), int64(15), object(13)\n",
      "memory usage: 98.5+ MB\n"
     ]
    }
   ],
   "source": [
    "# Can be useful in segmentation and stratification. Annomalies can be detected using clustering algorithms, e.g. fraud detection\n",
    "# Could find some hidden patterns in the data, from there can go back to classification and add more features to the model\n",
    "# Preprocessing: scaling, encoding, flag missingness (not same as imputation), outlier detection\n",
    "\n",
    "df_cleaned.info()"
   ]
  },
  {
   "cell_type": "markdown",
   "metadata": {},
   "source": [
    "# PREPROCESSING - SCALING, ENCODING, PCA, FLAG NULLS"
   ]
  },
  {
   "cell_type": "code",
   "execution_count": 12,
   "metadata": {},
   "outputs": [],
   "source": [
    "# dropping the target and id columns\n",
    "df_cleaned = df_cleaned.drop(['SK_ID_CURR', 'TARGET'], axis=1)"
   ]
  },
  {
   "cell_type": "code",
   "execution_count": 13,
   "metadata": {},
   "outputs": [
    {
     "data": {
      "text/plain": [
       "['NAME_CONTRACT_TYPE',\n",
       " 'CODE_GENDER',\n",
       " 'FLAG_OWN_CAR',\n",
       " 'FLAG_OWN_REALTY',\n",
       " 'NAME_TYPE_SUITE',\n",
       " 'NAME_INCOME_TYPE',\n",
       " 'NAME_EDUCATION_TYPE',\n",
       " 'NAME_FAMILY_STATUS',\n",
       " 'NAME_HOUSING_TYPE',\n",
       " 'OCCUPATION_TYPE',\n",
       " 'WEEKDAY_APPR_PROCESS_START',\n",
       " 'ORGANIZATION_TYPE',\n",
       " 'AMT_CREDIT_RANGE']"
      ]
     },
     "execution_count": 13,
     "metadata": {},
     "output_type": "execute_result"
    }
   ],
   "source": [
    "# creating list of categorical columns\n",
    "categorical_cols = df_cleaned.select_dtypes(include=['object']).columns.tolist()\n",
    "categorical_cols"
   ]
  },
  {
   "cell_type": "code",
   "execution_count": 14,
   "metadata": {},
   "outputs": [
    {
     "data": {
      "text/plain": [
       "['CNT_CHILDREN',\n",
       " 'AMT_GOODS_PRICE',\n",
       " 'REGION_POPULATION_RELATIVE',\n",
       " 'DAYS_REGISTRATION',\n",
       " 'DAYS_ID_PUBLISH',\n",
       " 'FLAG_EMP_PHONE',\n",
       " 'FLAG_WORK_PHONE',\n",
       " 'CNT_FAM_MEMBERS',\n",
       " 'REGION_RATING_CLIENT_W_CITY',\n",
       " 'HOUR_APPR_PROCESS_START',\n",
       " 'REG_REGION_NOT_LIVE_REGION',\n",
       " 'REG_REGION_NOT_WORK_REGION',\n",
       " 'LIVE_REGION_NOT_WORK_REGION',\n",
       " 'REG_CITY_NOT_LIVE_CITY',\n",
       " 'REG_CITY_NOT_WORK_CITY',\n",
       " 'LIVE_CITY_NOT_WORK_CITY',\n",
       " 'EXT_SOURCE_2',\n",
       " 'EXT_SOURCE_3',\n",
       " 'DEF_30_CNT_SOCIAL_CIRCLE',\n",
       " 'OBS_60_CNT_SOCIAL_CIRCLE',\n",
       " 'DEF_60_CNT_SOCIAL_CIRCLE',\n",
       " 'DAYS_LAST_PHONE_CHANGE',\n",
       " 'FLAG_DOCUMENT_3',\n",
       " 'AMT_REQ_CREDIT_BUREAU_HOUR',\n",
       " 'CREDT_INCOME_RATIO',\n",
       " 'EMP_AGE_RATIO',\n",
       " 'ANNUITY_INCOME_RATIO']"
      ]
     },
     "execution_count": 14,
     "metadata": {},
     "output_type": "execute_result"
    }
   ],
   "source": [
    "# creating list of numerical columns\n",
    "numerical_cols = df_cleaned.select_dtypes(include=['int64', 'float64']).columns.tolist()\n",
    "numerical_cols"
   ]
  },
  {
   "cell_type": "code",
   "execution_count": 17,
   "metadata": {},
   "outputs": [],
   "source": [
    "df_num = df_cleaned[numerical_cols]"
   ]
  },
  {
   "cell_type": "code",
   "execution_count": 23,
   "metadata": {},
   "outputs": [],
   "source": [
    "scaler = RobustScaler()\n",
    "df_num = scaler.fit_transform(df_num)\n",
    "\n",
    "imputer = SimpleImputer(strategy='median', add_indicator=True)\n",
    "\n",
    "df_num = imputer.fit_transform(df_num)\n",
    "\n",
    "df_num = pd.DataFrame(df_num)"
   ]
  },
  {
   "cell_type": "code",
   "execution_count": 24,
   "metadata": {},
   "outputs": [
    {
     "name": "stderr",
     "output_type": "stream",
     "text": [
      "/Users/jacobwarchola/Desktop/loan_project/venv/lib/python3.13/site-packages/statsmodels/stats/outliers_influence.py:197: RuntimeWarning: divide by zero encountered in scalar divide\n",
      "  vif = 1. / (1. - r_squared_i)\n"
     ]
    },
    {
     "name": "stdout",
     "output_type": "stream",
     "text": [
      "          VIF variables\n",
      "0    4.582794     const\n",
      "1    4.553388         0\n",
      "2    1.974923         1\n",
      "3    1.417656         2\n",
      "4    1.096292         3\n",
      "5    1.141985         4\n",
      "6   52.924449         5\n",
      "7    1.078651         6\n",
      "8    4.554773         7\n",
      "9    1.565994         8\n",
      "10   1.100579         9\n",
      "11   2.428751        10\n",
      "12   9.051767        11\n",
      "13   7.339911        12\n",
      "14   2.427481        13\n",
      "15   7.479485        14\n",
      "16   6.015409        15\n",
      "17   1.180679        16\n",
      "18   1.054605        17\n",
      "19   4.065055        18\n",
      "20   1.133214        19\n",
      "21   3.870020        20\n",
      "22   1.072305        21\n",
      "23   1.122816        22\n",
      "24   1.001281        23\n",
      "25   4.225966        24\n",
      "26  51.607520        25\n",
      "27   2.908923        26\n",
      "28   1.010488        27\n",
      "29   1.007317        28\n",
      "30   1.002699        29\n",
      "31   2.728607        30\n",
      "32        inf        31\n",
      "33        inf        32\n",
      "34        inf        33\n",
      "35   1.001565        34\n",
      "36   2.726269        35\n",
      "37   1.000219        36\n"
     ]
    }
   ],
   "source": [
    "# Multicollinearity detection\n",
    "vif = pd.DataFrame()\n",
    "\n",
    "# point here suspicious variables or just all variables\n",
    "df_vif = add_constant(df_num)\n",
    "vif[\"VIF\"] = [variance_inflation_factor(df_vif.values, i) for i in range(df_vif.shape[1])]\n",
    "vif[\"variables\"] = df_vif.columns\n",
    "\n",
    "print(vif)\n",
    "# vif 1-5 - ok, there is no strong correlation\n",
    "# if vif more than 5 - there is strong correlation\n",
    "# if vif is inf - there is extremely high correlation (linear dependence)"
   ]
  },
  {
   "cell_type": "code",
   "execution_count": null,
   "metadata": {},
   "outputs": [],
   "source": [
    "\n",
    "# Feature scaling\n",
    "print(f'Applying feature scaling for X_train...')\n",
    "\n",
    "# Scale numerical features\n",
    "scaler = RobustScaler()\n",
    "X_train[numerical_cols] = scaler.fit_transform(X_train[numerical_cols])\n",
    "print(f'Scaled {len(numerical_cols)} numerical columns for X_train')\n",
    "\n",
    "\n",
    "#Imputing missing values\n",
    "print(f'Imputing missing values for X_train...')\n",
    "imputer = ColumnTransformer(transformers=\n",
    "                        [('numimp', SimpleImputer(strategy='median', add_indicator=True), numerical_cols),\n",
    "                        ('catimp', SimpleImputer(strategy='most_frequent', add_indicator=True), categorical_cols)], \n",
    "                        remainder=\"passthrough\").set_output(transform='pandas')\n",
    "# num_imputer = SimpleImputer(strategy='mean', add_indicator=True)\n",
    "X_train = imputer.fit_transform(X_train)\n",
    "print(f'Imputed {len(numerical_cols)} numerical columns & {len(categorical_cols)} categorical columns for X_train')\n",
    "\n",
    "# Verify no missing values remain\n",
    "missing_after = X_train.isnull().sum().sum()\n",
    "print(f'Missing values after imputation: {missing_after} for X_train')\n",
    "\n",
    "\n",
    "categorical_cols_imp = X_train.select_dtypes(include=['object']).columns.tolist()\n",
    "print(f'Categorical Columns: {len(categorical_cols_imp)}')\n",
    "\n",
    "# finding cat columns that are binary\n",
    "binary_cat_col_imp = []\n",
    "for col in categorical_cols_imp:\n",
    "    if X_train[col].nunique() == 2:\n",
    "        binary_cat_col_imp.append(col)\n",
    "print(f'Binary Categorical Columns: {len(binary_cat_col_imp)}')\n",
    "\n",
    "# removing binary columns from list before OHE\n",
    "for col in binary_cat_col_imp:\n",
    "    categorical_cols_imp.remove(col)\n",
    "print(f'Multiclass Categorical Columns: {len(categorical_cols_imp)}')\n",
    "print('\\n')\n",
    "        \n",
    "\n",
    "# label encoding binary categorical variables, converting to 0 or 1\n",
    "le = LabelEncoder()\n",
    "for col in binary_cat_col_imp:\n",
    "    X_train[col] = le.fit_transform(X_train[col])\n",
    "\n",
    "# onehot encoding multiclass category variables\n",
    "ct = ColumnTransformer(transformers=[('ohe', OneHotEncoder(sparse_output=False), categorical_cols_imp)], \n",
    "                    remainder=\"passthrough\").set_output(transform='pandas')\n",
    "\n",
    "X_train = ct.fit_transform(X_train)\n",
    "\n"
   ]
  },
  {
   "cell_type": "code",
   "execution_count": null,
   "metadata": {},
   "outputs": [],
   "source": [
    "# ENCODING:\n"
   ]
  },
  {
   "cell_type": "markdown",
   "metadata": {},
   "source": [
    "# DBSCAN\n"
   ]
  }
 ],
 "metadata": {
  "kernelspec": {
   "display_name": "venv",
   "language": "python",
   "name": "python3"
  },
  "language_info": {
   "codemirror_mode": {
    "name": "ipython",
    "version": 3
   },
   "file_extension": ".py",
   "mimetype": "text/x-python",
   "name": "python",
   "nbconvert_exporter": "python",
   "pygments_lexer": "ipython3",
   "version": "3.13.2"
  }
 },
 "nbformat": 4,
 "nbformat_minor": 2
}
