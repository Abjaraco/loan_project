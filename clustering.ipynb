{
 "cells": [
  {
   "cell_type": "code",
   "execution_count": null,
   "metadata": {},
   "outputs": [],
   "source": [
    "# This notebook will be for clustering modeling (Unsupervised Learning)\n",
    "# Mini Kmeans, maybe DBSCAN(Density-Based Spatial Clustering of Applications with Noise)(GOWER) to detect noise\n",
    "# Importing the libraries\n",
    "import os\n",
    "import numpy as np\n",
    "import pandas as pd\n",
    "import matplotlib.pyplot as plt\n",
    "import seaborn as sns\n",
    "import sklearn\n",
    "from sklearn.cluster import DBSCAN\n"
   ]
  },
  {
   "cell_type": "code",
   "execution_count": 3,
   "metadata": {},
   "outputs": [],
   "source": [
    "from dotenv import load_dotenv\n",
    "\n",
    "load_dotenv()\n",
    "\n",
    "dataset_path = os.getenv('CLEANED_DATA_PATH')\n",
    "\n",
    "df_cleaned = pd.read_csv(dataset_path)\n"
   ]
  },
  {
   "cell_type": "code",
   "execution_count": null,
   "metadata": {},
   "outputs": [
    {
     "name": "stdout",
     "output_type": "stream",
     "text": [
      "<class 'pandas.core.frame.DataFrame'>\n",
      "RangeIndex: 307507 entries, 0 to 307506\n",
      "Data columns (total 51 columns):\n",
      " #   Column                       Non-Null Count   Dtype  \n",
      "---  ------                       --------------   -----  \n",
      " 0   SK_ID_CURR                   307507 non-null  int64  \n",
      " 1   TARGET                       307507 non-null  int64  \n",
      " 2   NAME_CONTRACT_TYPE           307507 non-null  object \n",
      " 3   CODE_GENDER                  307507 non-null  object \n",
      " 4   FLAG_OWN_CAR                 307507 non-null  object \n",
      " 5   FLAG_OWN_REALTY              307507 non-null  object \n",
      " 6   CNT_CHILDREN                 307507 non-null  int64  \n",
      " 7   AMT_INCOME_TOTAL             307507 non-null  float64\n",
      " 8   AMT_CREDIT                   307507 non-null  float64\n",
      " 9   AMT_ANNUITY                  307495 non-null  float64\n",
      " 10  NAME_TYPE_SUITE              306215 non-null  object \n",
      " 11  NAME_INCOME_TYPE             307507 non-null  object \n",
      " 12  NAME_EDUCATION_TYPE          307507 non-null  object \n",
      " 13  NAME_FAMILY_STATUS           307507 non-null  object \n",
      " 14  NAME_HOUSING_TYPE            307507 non-null  object \n",
      " 15  REGION_POPULATION_RELATIVE   307507 non-null  float64\n",
      " 16  DAYS_BIRTH                   307507 non-null  int64  \n",
      " 17  DAYS_EMPLOYED                307507 non-null  int64  \n",
      " 18  DAYS_REGISTRATION            307507 non-null  float64\n",
      " 19  DAYS_ID_PUBLISH              307507 non-null  int64  \n",
      " 20  FLAG_EMP_PHONE               307507 non-null  int64  \n",
      " 21  FLAG_WORK_PHONE              307507 non-null  int64  \n",
      " 22  OCCUPATION_TYPE              307507 non-null  object \n",
      " 23  CNT_FAM_MEMBERS              307505 non-null  float64\n",
      " 24  REGION_RATING_CLIENT_W_CITY  307507 non-null  int64  \n",
      " 25  WEEKDAY_APPR_PROCESS_START   307507 non-null  object \n",
      " 26  HOUR_APPR_PROCESS_START      307507 non-null  int64  \n",
      " 27  REG_REGION_NOT_LIVE_REGION   307507 non-null  int64  \n",
      " 28  REG_REGION_NOT_WORK_REGION   307507 non-null  int64  \n",
      " 29  LIVE_REGION_NOT_WORK_REGION  307507 non-null  int64  \n",
      " 30  REG_CITY_NOT_LIVE_CITY       307507 non-null  int64  \n",
      " 31  LIVE_CITY_NOT_WORK_CITY      307507 non-null  int64  \n",
      " 32  ORGANIZATION_TYPE            307507 non-null  object \n",
      " 33  EXT_SOURCE_2                 306847 non-null  float64\n",
      " 34  EXT_SOURCE_3                 246542 non-null  float64\n",
      " 35  OBS_60_CNT_SOCIAL_CIRCLE     306486 non-null  float64\n",
      " 36  DEF_60_CNT_SOCIAL_CIRCLE     306486 non-null  float64\n",
      " 37  DAYS_LAST_PHONE_CHANGE       307506 non-null  float64\n",
      " 38  FLAG_DOCUMENT_3              307507 non-null  int64  \n",
      " 39  AMT_REQ_CREDIT_BUREAU_HOUR   265988 non-null  float64\n",
      " 40  AMT_REQ_CREDIT_BUREAU_DAY    265988 non-null  float64\n",
      " 41  AMT_REQ_CREDIT_BUREAU_WEEK   265988 non-null  float64\n",
      " 42  AMT_REQ_CREDIT_BUREAU_MON    265988 non-null  float64\n",
      " 43  AMT_REQ_CREDIT_BUREAU_QRT    265988 non-null  float64\n",
      " 44  AMT_REQ_CREDIT_BUREAU_YEAR   265988 non-null  float64\n",
      " 45  AMT_INCOME_RANGE             307507 non-null  object \n",
      " 46  AMT_CREDIT_RANGE             307507 non-null  object \n",
      " 47  AGE                          307507 non-null  int64  \n",
      " 48  AGE_GROUP                    307507 non-null  object \n",
      " 49  YEARS_EMPLOYED               307507 non-null  float64\n",
      " 50  EMPLOYMENT_YEAR              307507 non-null  object \n",
      "dtypes: float64(18), int64(17), object(16)\n",
      "memory usage: 119.7+ MB\n"
     ]
    }
   ],
   "source": [
    "# Can be useful in segmentation and stratification. Annomalies can be detected using clustering algorithms, e.g. fraud detection\n",
    "# Could find some hidden patterns in the data, from there can go back to classification and add more features to the model\n",
    "# Preprocessing: scaling, encoding, flag missingness (not same as imputation), outlier detection\n",
    "\n",
    "df_cleaned.info()"
   ]
  },
  {
   "cell_type": "code",
   "execution_count": null,
   "metadata": {},
   "outputs": [],
   "source": [
    "# dropping the target and id columns\n",
    "df = df_cleaned.drop(['SK_ID_CURR', 'TARGET'], axis=1)\n"
   ]
  },
  {
   "cell_type": "markdown",
   "metadata": {},
   "source": [
    "# PREPROCESSING - SCALING, ENCODING, PCA, FLAG NULLS"
   ]
  },
  {
   "cell_type": "code",
   "execution_count": null,
   "metadata": {},
   "outputs": [],
   "source": [
    "# ENCODING:\n"
   ]
  },
  {
   "cell_type": "markdown",
   "metadata": {},
   "source": [
    "# DBSCAN\n"
   ]
  }
 ],
 "metadata": {
  "kernelspec": {
   "display_name": "venv",
   "language": "python",
   "name": "python3"
  },
  "language_info": {
   "codemirror_mode": {
    "name": "ipython",
    "version": 3
   },
   "file_extension": ".py",
   "mimetype": "text/x-python",
   "name": "python",
   "nbconvert_exporter": "python",
   "pygments_lexer": "ipython3",
   "version": "3.13.2"
  }
 },
 "nbformat": 4,
 "nbformat_minor": 2
}
